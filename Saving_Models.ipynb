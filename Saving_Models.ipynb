{
  "nbformat": 4,
  "nbformat_minor": 0,
  "metadata": {
    "colab": {
      "name": "Saving Models.ipynb",
      "provenance": [],
      "include_colab_link": true
    },
    "kernelspec": {
      "name": "python3",
      "display_name": "Python 3"
    },
    "language_info": {
      "name": "python"
    }
  },
  "cells": [
    {
      "cell_type": "markdown",
      "metadata": {
        "id": "view-in-github",
        "colab_type": "text"
      },
      "source": [
        "<a href=\"https://colab.research.google.com/github/Dummy-Bug/Machine-Learning/blob/master/Saving_Models.ipynb\" target=\"_parent\"><img src=\"https://colab.research.google.com/assets/colab-badge.svg\" alt=\"Open In Colab\"/></a>"
      ]
    },
    {
      "cell_type": "markdown",
      "metadata": {
        "id": "Np1HdbpkPf5C"
      },
      "source": [
        "# Creating A Model\n",
        "\n",
        "---\n",
        "DATA USED : - \n",
        "```\n",
        "area,price\n",
        "2600,550000\n",
        "3000,565000\n",
        "3200,610000\n",
        "3600,680000\n",
        "4000,725000\n",
        "```"
      ]
    },
    {
      "cell_type": "code",
      "metadata": {
        "id": "v4UPxJtBPfu7",
        "colab": {
          "base_uri": "https://localhost:8080/"
        },
        "outputId": "1032d16c-6a09-475f-d71e-45653357d25e"
      },
      "source": [
        "# loading dependencies\n",
        "import pandas as pd\n",
        "import numpy as np\n",
        "from sklearn import linear_model\n",
        "print(\"Modules Loaded Sucessfully\")"
      ],
      "execution_count": null,
      "outputs": [
        {
          "output_type": "stream",
          "text": [
            "Modules Loaded Sucessfully\n"
          ],
          "name": "stdout"
        }
      ]
    },
    {
      "cell_type": "code",
      "metadata": {
        "colab": {
          "base_uri": "https://localhost:8080/",
          "height": 203
        },
        "id": "V3DQPcFrPfSL",
        "outputId": "1cdf7776-25f9-47c5-8c4f-6fe2eb89fafc"
      },
      "source": [
        "# loading our data\n",
        "df = pd.read_csv('/content/train.csv')\n",
        "\n",
        "# viewing few files\n",
        "df.head()"
      ],
      "execution_count": null,
      "outputs": [
        {
          "output_type": "execute_result",
          "data": {
            "text/html": [
              "<div>\n",
              "<style scoped>\n",
              "    .dataframe tbody tr th:only-of-type {\n",
              "        vertical-align: middle;\n",
              "    }\n",
              "\n",
              "    .dataframe tbody tr th {\n",
              "        vertical-align: top;\n",
              "    }\n",
              "\n",
              "    .dataframe thead th {\n",
              "        text-align: right;\n",
              "    }\n",
              "</style>\n",
              "<table border=\"1\" class=\"dataframe\">\n",
              "  <thead>\n",
              "    <tr style=\"text-align: right;\">\n",
              "      <th></th>\n",
              "      <th>area</th>\n",
              "      <th>price</th>\n",
              "    </tr>\n",
              "  </thead>\n",
              "  <tbody>\n",
              "    <tr>\n",
              "      <th>0</th>\n",
              "      <td>2600</td>\n",
              "      <td>550000</td>\n",
              "    </tr>\n",
              "    <tr>\n",
              "      <th>1</th>\n",
              "      <td>3000</td>\n",
              "      <td>565000</td>\n",
              "    </tr>\n",
              "    <tr>\n",
              "      <th>2</th>\n",
              "      <td>3200</td>\n",
              "      <td>610000</td>\n",
              "    </tr>\n",
              "    <tr>\n",
              "      <th>3</th>\n",
              "      <td>3600</td>\n",
              "      <td>680000</td>\n",
              "    </tr>\n",
              "    <tr>\n",
              "      <th>4</th>\n",
              "      <td>4000</td>\n",
              "      <td>725000</td>\n",
              "    </tr>\n",
              "  </tbody>\n",
              "</table>\n",
              "</div>"
            ],
            "text/plain": [
              "   area   price\n",
              "0  2600  550000\n",
              "1  3000  565000\n",
              "2  3200  610000\n",
              "3  3600  680000\n",
              "4  4000  725000"
            ]
          },
          "metadata": {
            "tags": []
          },
          "execution_count": 4
        }
      ]
    },
    {
      "cell_type": "code",
      "metadata": {
        "colab": {
          "base_uri": "https://localhost:8080/"
        },
        "id": "2-ybTY7LN-SR",
        "outputId": "528ecb32-1a00-4534-8225-2b930a6e92aa"
      },
      "source": [
        "# creating the model object\n",
        "model = linear_model.LinearRegression() # y = mx+b\n",
        "\n",
        "# fitting model with X_train - area, y_train - price\n",
        "model.fit(df[['area']],df.price)"
      ],
      "execution_count": null,
      "outputs": [
        {
          "output_type": "execute_result",
          "data": {
            "text/plain": [
              "LinearRegression(copy_X=True, fit_intercept=True, n_jobs=None, normalize=False)"
            ]
          },
          "metadata": {
            "tags": []
          },
          "execution_count": 5
        }
      ]
    },
    {
      "cell_type": "code",
      "metadata": {
        "colab": {
          "base_uri": "https://localhost:8080/"
        },
        "id": "KrKDXLMHQ004",
        "outputId": "c48454b0-38c5-4068-8b01-0953cdae4728"
      },
      "source": [
        "# checking coeffiecent - m\n",
        "model.coef_"
      ],
      "execution_count": null,
      "outputs": [
        {
          "output_type": "execute_result",
          "data": {
            "text/plain": [
              "array([135.78767123])"
            ]
          },
          "metadata": {
            "tags": []
          },
          "execution_count": 6
        }
      ]
    },
    {
      "cell_type": "code",
      "metadata": {
        "colab": {
          "base_uri": "https://localhost:8080/"
        },
        "id": "lZbgNeh0Q7BI",
        "outputId": "67fb3b47-0c94-4690-e00e-eea62dceac95"
      },
      "source": [
        "# checking intercept - b\n",
        "model.intercept_"
      ],
      "execution_count": null,
      "outputs": [
        {
          "output_type": "execute_result",
          "data": {
            "text/plain": [
              "180616.43835616432"
            ]
          },
          "metadata": {
            "tags": []
          },
          "execution_count": 7
        }
      ]
    },
    {
      "cell_type": "code",
      "metadata": {
        "colab": {
          "base_uri": "https://localhost:8080/"
        },
        "id": "LeoM6sp4Rb-w",
        "outputId": "c131a7bb-78b4-4399-ef4a-0bc3e9281b3d"
      },
      "source": [
        "# predict model values - area = 5000\n",
        "model.predict([[5000]]) "
      ],
      "execution_count": null,
      "outputs": [
        {
          "output_type": "execute_result",
          "data": {
            "text/plain": [
              "array([859554.79452055])"
            ]
          },
          "metadata": {
            "tags": []
          },
          "execution_count": 14
        }
      ]
    },
    {
      "cell_type": "markdown",
      "metadata": {
        "id": "yMafq-IOShC8"
      },
      "source": [
        "# Saving A Model"
      ]
    },
    {
      "cell_type": "markdown",
      "metadata": {
        "id": "YnXL6atISoRB"
      },
      "source": [
        "## Using Pickel\n",
        "\n",
        "- Helps in deserialization of a python object i.e breaking down an object into its constituting components.\n",
        "- The pickle module keeps track of the objects it has already serialized, so that later references to the same object won’t be serialized again, thus allowing for faster execution time \n",
        "- Allows to save model in very less time\n",
        "- Good For small models with less parameters "
      ]
    },
    {
      "cell_type": "code",
      "metadata": {
        "id": "lZ9xql-IRkTi"
      },
      "source": [
        "# loading library\n",
        "import pickle"
      ],
      "execution_count": null,
      "outputs": []
    },
    {
      "cell_type": "code",
      "metadata": {
        "id": "6crATZLJTSBO"
      },
      "source": [
        "# create an iterator object with write permission - model.pickle\n",
        "with open('model_pkl', 'wb') as files:\n",
        "    pickle.dump(model, files)"
      ],
      "execution_count": null,
      "outputs": []
    },
    {
      "cell_type": "markdown",
      "metadata": {
        "id": "WMRZcYG4Uah-"
      },
      "source": [
        "- We opened a new file - `with open('model_pkl', 'wb')` where `wb` stands for write binary file and aliased as `files`\n",
        "- then we saved our `model` objects in `files` using `pickle.dump(object = None , filename)` method\n",
        "\n",
        "After this one can se `model_pkl` in dir"
      ]
    },
    {
      "cell_type": "code",
      "metadata": {
        "id": "1zXeVB_4UVw0"
      },
      "source": [
        "# load saved model\n",
        "with open('model_pkl' , 'rb') as f:\n",
        "    lr = pickle.load(f)"
      ],
      "execution_count": null,
      "outputs": []
    },
    {
      "cell_type": "markdown",
      "metadata": {
        "id": "agWOWxOtVmep"
      },
      "source": [
        "- We opened create file `model_pkl` and gave read only permission under alias name `f`\n",
        "- Next we saved our loded file in variable name `lr` using `pickle.load(filename=None)`\n",
        "\n",
        "After this one can use model using `lr` "
      ]
    },
    {
      "cell_type": "code",
      "metadata": {
        "colab": {
          "base_uri": "https://localhost:8080/"
        },
        "id": "OnAYes_DWbMP",
        "outputId": "bee2e4f4-0a25-48aa-e2aa-2a5f461cd678"
      },
      "source": [
        "# check prediction\n",
        "lr.predict([[5000]]) # similar"
      ],
      "execution_count": null,
      "outputs": [
        {
          "output_type": "execute_result",
          "data": {
            "text/plain": [
              "array([859554.79452055])"
            ]
          },
          "metadata": {
            "tags": []
          },
          "execution_count": 19
        }
      ]
    },
    {
      "cell_type": "markdown",
      "metadata": {
        "id": "8UMu5KFWWsOU"
      },
      "source": [
        "## Sklearn Joblib\n",
        "\n",
        "- Usefull in saving model but requires `` dependency\n",
        "- Very good for large model which have many parameters and can have large numpy arrays in backend\n",
        "- Can only save file to disk and not to a string as opposed to `pickle`\n",
        "- Works similar to pickle `dump` and `load`\n",
        "- Most fitted for estimators"
      ]
    },
    {
      "cell_type": "code",
      "metadata": {
        "id": "n5Eq-T_mWihc"
      },
      "source": [
        "# loading dependecy\n",
        "from sklearn.externals import joblib"
      ],
      "execution_count": null,
      "outputs": []
    },
    {
      "cell_type": "code",
      "metadata": {
        "colab": {
          "base_uri": "https://localhost:8080/"
        },
        "id": "TI_GzazeX2IU",
        "outputId": "5cbdf9a3-0ad6-4727-d753-6e24db993a4b"
      },
      "source": [
        "# saving our model\n",
        "joblib.dump(model , 'model_jlib')"
      ],
      "execution_count": null,
      "outputs": [
        {
          "output_type": "execute_result",
          "data": {
            "text/plain": [
              "['model_jlib']"
            ]
          },
          "metadata": {
            "tags": []
          },
          "execution_count": 23
        }
      ]
    },
    {
      "cell_type": "markdown",
      "metadata": {
        "id": "5YjCFbiZYuL7"
      },
      "source": [
        "- Similar to pickle we used `joblib.dump(obj, name)` method to save model\n",
        "-- model: **model**\n",
        "-- name : **model_jlib**"
      ]
    },
    {
      "cell_type": "code",
      "metadata": {
        "id": "adnCRFieYNhz"
      },
      "source": [
        "# opening the file\n",
        "m_jlib = joblib.load('model_jlib')"
      ],
      "execution_count": null,
      "outputs": []
    },
    {
      "cell_type": "markdown",
      "metadata": {
        "id": "YiChBO7UZdLm"
      },
      "source": [
        "- We Loaded file using `joblib.load(name)` method using m_jlib"
      ]
    },
    {
      "cell_type": "code",
      "metadata": {
        "colab": {
          "base_uri": "https://localhost:8080/"
        },
        "id": "_Ww8CMkAYlsr",
        "outputId": "5e2151bb-7198-43cf-c329-40819b5258ce"
      },
      "source": [
        "m_jlib.predict([[5000]]) # similar"
      ],
      "execution_count": null,
      "outputs": [
        {
          "output_type": "execute_result",
          "data": {
            "text/plain": [
              "array([859554.79452055])"
            ]
          },
          "metadata": {
            "tags": []
          },
          "execution_count": 26
        }
      ]
    }
  ]
}